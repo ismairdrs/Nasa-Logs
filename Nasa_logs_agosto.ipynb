{
  "nbformat": 4,
  "nbformat_minor": 0,
  "metadata": {
    "colab": {
      "name": "Nasa_logs_agosto.ipynb",
      "provenance": [],
      "collapsed_sections": [],
      "authorship_tag": "ABX9TyMQ6iyqQu41AkpvjoZzNVFe",
      "include_colab_link": true
    },
    "kernelspec": {
      "name": "python3",
      "display_name": "Python 3"
    }
  },
  "cells": [
    {
      "cell_type": "markdown",
      "metadata": {
        "id": "view-in-github",
        "colab_type": "text"
      },
      "source": [
        "<a href=\"https://colab.research.google.com/github/ismairdrs/Nasa-Logs/blob/master/Nasa_logs_agosto.ipynb\" target=\"_parent\"><img src=\"https://colab.research.google.com/assets/colab-badge.svg\" alt=\"Open In Colab\"/></a>"
      ]
    },
    {
      "cell_type": "code",
      "metadata": {
        "id": "1EJseIXgVZpT",
        "colab_type": "code",
        "colab": {
          "base_uri": "https://localhost:8080/",
          "height": 85
        },
        "outputId": "2a49d3e1-a0ee-403c-c7b3-92d07a46e873"
      },
      "source": [
        "!apt-get install openjdk-8-jdk-headless -qq > /dev/null\n",
        "import os\n",
        "os.environ[\"JAVA_HOME\"] = \"/usr/lib/jvm/java-8-openjdk-amd64\"\n",
        "!update-alternatives --set java /usr/lib/jvm/java-8-openjdk-amd64/jre/bin/java\n",
        "!java -version"
      ],
      "execution_count": 1,
      "outputs": [
        {
          "output_type": "stream",
          "text": [
            "update-alternatives: using /usr/lib/jvm/java-8-openjdk-amd64/jre/bin/java to provide /usr/bin/java (java) in manual mode\n",
            "openjdk version \"1.8.0_252\"\n",
            "OpenJDK Runtime Environment (build 1.8.0_252-8u252-b09-1~18.04-b09)\n",
            "OpenJDK 64-Bit Server VM (build 25.252-b09, mixed mode)\n"
          ],
          "name": "stdout"
        }
      ]
    },
    {
      "cell_type": "code",
      "metadata": {
        "id": "rtpMCFi7VggZ",
        "colab_type": "code",
        "colab": {
          "base_uri": "https://localhost:8080/",
          "height": 85
        },
        "outputId": "210dd966-7214-4614-ee3f-d3effd02b85d"
      },
      "source": [
        "!pip install findspark"
      ],
      "execution_count": 2,
      "outputs": [
        {
          "output_type": "stream",
          "text": [
            "Collecting findspark\n",
            "  Downloading https://files.pythonhosted.org/packages/fc/2d/2e39f9a023479ea798eed4351cd66f163ce61e00c717e03c37109f00c0f2/findspark-1.4.2-py2.py3-none-any.whl\n",
            "Installing collected packages: findspark\n",
            "Successfully installed findspark-1.4.2\n"
          ],
          "name": "stdout"
        }
      ]
    },
    {
      "cell_type": "code",
      "metadata": {
        "id": "YC3uFkC_VhLD",
        "colab_type": "code",
        "colab": {
          "base_uri": "https://localhost:8080/",
          "height": 238
        },
        "outputId": "3ed81992-3954-4c5b-a900-df9594c62dea"
      },
      "source": [
        "!pip install pyspark"
      ],
      "execution_count": 3,
      "outputs": [
        {
          "output_type": "stream",
          "text": [
            "Collecting pyspark\n",
            "\u001b[?25l  Downloading https://files.pythonhosted.org/packages/e9/e4/5c15ab8d354c4e3528510821865e6748209a9b0ff6a1788f4cd36cc2a5dc/pyspark-2.4.6.tar.gz (218.4MB)\n",
            "\u001b[K     |████████████████████████████████| 218.4MB 60kB/s \n",
            "\u001b[?25hCollecting py4j==0.10.7\n",
            "\u001b[?25l  Downloading https://files.pythonhosted.org/packages/e3/53/c737818eb9a7dc32a7cd4f1396e787bd94200c3997c72c1dbe028587bd76/py4j-0.10.7-py2.py3-none-any.whl (197kB)\n",
            "\u001b[K     |████████████████████████████████| 204kB 42.8MB/s \n",
            "\u001b[?25hBuilding wheels for collected packages: pyspark\n",
            "  Building wheel for pyspark (setup.py) ... \u001b[?25l\u001b[?25hdone\n",
            "  Created wheel for pyspark: filename=pyspark-2.4.6-py2.py3-none-any.whl size=218814406 sha256=159014ce274ebe7982c228d1a629cda56a19f389fcc201677078854eba8ef68e\n",
            "  Stored in directory: /root/.cache/pip/wheels/1e/5e/6a/17e906c94ec7246f260330a66e44a06a0809033ba2738a74a8\n",
            "Successfully built pyspark\n",
            "Installing collected packages: py4j, pyspark\n",
            "Successfully installed py4j-0.10.7 pyspark-2.4.6\n"
          ],
          "name": "stdout"
        }
      ]
    },
    {
      "cell_type": "code",
      "metadata": {
        "id": "moACUHO9VhN7",
        "colab_type": "code",
        "colab": {
          "base_uri": "https://localhost:8080/",
          "height": 187
        },
        "outputId": "cd9e53bc-c215-4897-fdac-146718057c6d"
      },
      "source": [
        "!pip install spark"
      ],
      "execution_count": 4,
      "outputs": [
        {
          "output_type": "stream",
          "text": [
            "Collecting spark\n",
            "\u001b[?25l  Downloading https://files.pythonhosted.org/packages/59/7c/81b89b63927d7b24be7cbd61eabf90a28458bac90ff12531edd56d76ad61/spark-0.2.1.tar.gz (41kB)\n",
            "\r\u001b[K     |████████                        | 10kB 19.0MB/s eta 0:00:01\r\u001b[K     |████████████████                | 20kB 1.7MB/s eta 0:00:01\r\u001b[K     |████████████████████████        | 30kB 2.3MB/s eta 0:00:01\r\u001b[K     |████████████████████████████████| 40kB 2.6MB/s eta 0:00:01\r\u001b[K     |████████████████████████████████| 51kB 2.2MB/s \n",
            "\u001b[?25hBuilding wheels for collected packages: spark\n",
            "  Building wheel for spark (setup.py) ... \u001b[?25l\u001b[?25hdone\n",
            "  Created wheel for spark: filename=spark-0.2.1-cp36-none-any.whl size=58741 sha256=59399d6fe294f666c54f443ef7b34366f828c9728a84f3dd45c83ed72924f73c\n",
            "  Stored in directory: /root/.cache/pip/wheels/57/a3/24/7c4c81b1cc5e82ad386965d2808543c4f5306b759da26e5629\n",
            "Successfully built spark\n",
            "Installing collected packages: spark\n",
            "Successfully installed spark-0.2.1\n"
          ],
          "name": "stdout"
        }
      ]
    },
    {
      "cell_type": "code",
      "metadata": {
        "id": "rIH9b5bJVhQz",
        "colab_type": "code",
        "colab": {}
      },
      "source": [
        "# instalar as dependências\n",
        "!apt-get install openjdk-8-jdk-headless -qq > /dev/null\n",
        "!wget -q https://archive.apache.org/dist/spark/spark-2.4.4/spark-2.4.4-bin-hadoop2.7.tgz\n",
        "!tar xf spark-2.4.4-bin-hadoop2.7.tgz\n",
        "!pip install -q findspark"
      ],
      "execution_count": 0,
      "outputs": []
    },
    {
      "cell_type": "code",
      "metadata": {
        "id": "ndXitvCvVhTb",
        "colab_type": "code",
        "colab": {}
      },
      "source": [
        "# instalar as dependências\n",
        "!apt-get install openjdk-8-jdk-headless -qq > /dev/null\n",
        "!wget -q https://archive.apache.org/dist/spark/spark-2.4.4/spark-2.4.4-bin-hadoop2.7.tgz\n",
        "!tar xf spark-2.4.4-bin-hadoop2.7.tgz\n",
        "!pip install -q findspark"
      ],
      "execution_count": 0,
      "outputs": []
    },
    {
      "cell_type": "code",
      "metadata": {
        "id": "cgGC-0KMVhWD",
        "colab_type": "code",
        "colab": {}
      },
      "source": [
        "import os\n",
        "os.environ[\"JAVA_HOME\"] = \"/usr/lib/jvm/java-8-openjdk-amd64\"\n",
        "os.environ[\"SPARK_HOME\"] = \"/content/spark-2.4.4-bin-hadoop2.7\""
      ],
      "execution_count": 0,
      "outputs": []
    },
    {
      "cell_type": "code",
      "metadata": {
        "id": "tdR7JCTfVhYj",
        "colab_type": "code",
        "colab": {}
      },
      "source": [
        "# Tornar o pyspark \"importável\"\n",
        "import findspark\n",
        "findspark.init('spark-2.4.4-bin-hadoop2.7')"
      ],
      "execution_count": 0,
      "outputs": []
    },
    {
      "cell_type": "code",
      "metadata": {
        "id": "W1E_ZbP9VhbL",
        "colab_type": "code",
        "colab": {}
      },
      "source": [
        "# Import SparkSession\n",
        "from pyspark.sql import SparkSession"
      ],
      "execution_count": 0,
      "outputs": []
    },
    {
      "cell_type": "code",
      "metadata": {
        "id": "LObHe7YGVr27",
        "colab_type": "code",
        "colab": {}
      },
      "source": [
        "# Build the SparkSession\n",
        "spark = SparkSession.builder \\\n",
        "   .master(\"local\") \\\n",
        "   .appName(\"Linear Regression Model\") \\\n",
        "   .config(\"spark.executor.memory\", \"1gb\") \\\n",
        "   .getOrCreate()"
      ],
      "execution_count": 0,
      "outputs": []
    },
    {
      "cell_type": "code",
      "metadata": {
        "id": "JX_vRZkeVtx9",
        "colab_type": "code",
        "colab": {}
      },
      "source": [
        "sc = spark.sparkContext"
      ],
      "execution_count": 0,
      "outputs": []
    },
    {
      "cell_type": "code",
      "metadata": {
        "id": "bT6uklCnVu5T",
        "colab_type": "code",
        "colab": {
          "base_uri": "https://localhost:8080/",
          "height": 119
        },
        "outputId": "9fd73a6b-c886-4d27-fb33-4cbe1fb39bfb"
      },
      "source": [
        "# Clonar o git\n",
        "!git clone https://github.com/leonardoamorim/aulapython.git"
      ],
      "execution_count": 12,
      "outputs": [
        {
          "output_type": "stream",
          "text": [
            "Cloning into 'aulapython'...\n",
            "remote: Enumerating objects: 48, done.\u001b[K\n",
            "remote: Counting objects: 100% (48/48), done.\u001b[K\n",
            "remote: Compressing objects: 100% (48/48), done.\u001b[K\n",
            "remote: Total 48 (delta 16), reused 0 (delta 0), pack-reused 0\u001b[K\n",
            "Unpacking objects: 100% (48/48), done.\n"
          ],
          "name": "stdout"
        }
      ]
    },
    {
      "cell_type": "code",
      "metadata": {
        "id": "ES4m9_f9VxyU",
        "colab_type": "code",
        "colab": {}
      },
      "source": [
        "#GUNZIP\n",
        "\n",
        "! gunzip -d aulapython/NASA_access_log_Jul95.gz >/dev/null\n",
        "! gunzip -d aulapython/NASA_access_log_Aug95.gz >/dev/null"
      ],
      "execution_count": 0,
      "outputs": []
    },
    {
      "cell_type": "code",
      "metadata": {
        "id": "wLer3-YPVy9L",
        "colab_type": "code",
        "colab": {}
      },
      "source": [
        "# Cria o RDD \n",
        "logs_agosto = sc.textFile('aulapython/NASA_access_log_Aug95')"
      ],
      "execution_count": 0,
      "outputs": []
    },
    {
      "cell_type": "code",
      "metadata": {
        "id": "3PIvfUoBV1p5",
        "colab_type": "code",
        "colab": {}
      },
      "source": [
        "# Mostra os Dados\n",
        "#logs_agosto.take(15)"
      ],
      "execution_count": 0,
      "outputs": []
    },
    {
      "cell_type": "code",
      "metadata": {
        "id": "aInSOyjr3jsD",
        "colab_type": "code",
        "colab": {}
      },
      "source": [
        "from operator import add, itemgetter"
      ],
      "execution_count": 0,
      "outputs": []
    },
    {
      "cell_type": "code",
      "metadata": {
        "id": "NdQ84GkUW8yV",
        "colab_type": "code",
        "colab": {
          "base_uri": "https://localhost:8080/",
          "height": 34
        },
        "outputId": "020430b5-59fb-4d6d-ea5c-36af9b4fc9da"
      },
      "source": [
        "# Contagem de hosts unicos\n",
        "contagem_hosts_unicos = logs_agosto.map(lambda line: line.split(' ')[0]).distinct().count()\n",
        "print(f'O total de host únicos é {contagem_hosts_unicos}')"
      ],
      "execution_count": 17,
      "outputs": [
        {
          "output_type": "stream",
          "text": [
            "O total de host únicos é 75060\n"
          ],
          "name": "stdout"
        }
      ]
    },
    {
      "cell_type": "code",
      "metadata": {
        "id": "4blRgM_WXOFl",
        "colab_type": "code",
        "colab": {
          "base_uri": "https://localhost:8080/",
          "height": 34
        },
        "outputId": "2540cd1c-5a86-43ed-d85e-41676b7a1301"
      },
      "source": [
        "# Encontra o total de erro 404\n",
        "\n",
        "get_erros_404 = logs_agosto.map(lambda line: line.split(' ')[-2]).filter(lambda linha: linha in '404').count()\n",
        "print(f'Error 404 em Agosto: {get_erros_404}')"
      ],
      "execution_count": 18,
      "outputs": [
        {
          "output_type": "stream",
          "text": [
            "Error 404 em Agosto: 10056\n"
          ],
          "name": "stdout"
        }
      ]
    },
    {
      "cell_type": "code",
      "metadata": {
        "id": "tLOeYT9HM5EC",
        "colab_type": "code",
        "colab": {}
      },
      "source": [
        "### Retorna uma lista com o dia e o total de registros\n",
        "def total_por_dias_e_erro_404(rdd):\n",
        "    rdd_splitado = rdd.map(lambda linha: linha.split('[')[1])\n",
        "    dias = rdd_splitado.filter(lambda linha: linha.split(' ')[-2] == '404').map(lambda linha: linha.split(':')[0])\n",
        "    counts = dias.map(lambda dia: (dia, 1)).reduceByKey(add).collect()\n",
        "    return counts"
      ],
      "execution_count": 0,
      "outputs": []
    },
    {
      "cell_type": "code",
      "metadata": {
        "id": "hfvsgiIIZVlT",
        "colab_type": "code",
        "colab": {
          "base_uri": "https://localhost:8080/",
          "height": 527
        },
        "outputId": "cd68fbcf-7ef9-484d-ba7a-1ec0895fef40"
      },
      "source": [
        "total_por_dias_e_erro_404(rdd=logs_agosto)"
      ],
      "execution_count": 20,
      "outputs": [
        {
          "output_type": "execute_result",
          "data": {
            "text/plain": [
              "[('01/Aug/1995', 243),\n",
              " ('07/Aug/1995', 537),\n",
              " ('09/Aug/1995', 279),\n",
              " ('10/Aug/1995', 315),\n",
              " ('21/Aug/1995', 305),\n",
              " ('27/Aug/1995', 370),\n",
              " ('30/Aug/1995', 571),\n",
              " ('03/Aug/1995', 304),\n",
              " ('06/Aug/1995', 372),\n",
              " ('08/Aug/1995', 391),\n",
              " ('16/Aug/1995', 259),\n",
              " ('20/Aug/1995', 312),\n",
              " ('05/Aug/1995', 236),\n",
              " ('11/Aug/1995', 263),\n",
              " ('12/Aug/1995', 196),\n",
              " ('13/Aug/1995', 216),\n",
              " ('15/Aug/1995', 327),\n",
              " ('17/Aug/1995', 271),\n",
              " ('22/Aug/1995', 288),\n",
              " ('23/Aug/1995', 345),\n",
              " ('24/Aug/1995', 420),\n",
              " ('26/Aug/1995', 366),\n",
              " ('28/Aug/1995', 410),\n",
              " ('14/Aug/1995', 287),\n",
              " ('18/Aug/1995', 256),\n",
              " ('19/Aug/1995', 209),\n",
              " ('31/Aug/1995', 526),\n",
              " ('04/Aug/1995', 346),\n",
              " ('25/Aug/1995', 415),\n",
              " ('29/Aug/1995', 420)]"
            ]
          },
          "metadata": {
            "tags": []
          },
          "execution_count": 20
        }
      ]
    },
    {
      "cell_type": "code",
      "metadata": {
        "id": "WjiK5N7VX8db",
        "colab_type": "code",
        "colab": {}
      },
      "source": [
        "# Conta o total de bytes do rdd\n",
        "def contar_bytes(rdd):\n",
        "    splita_o_rdd = rdd.map(lambda line: line.split(' ')[-1])\n",
        "    lista_bytes = splita_o_rdd.take(splita_o_rdd.count())\n",
        "    total_bytes = 0\n",
        "    for num in lista_bytes:\n",
        "        try:\n",
        "            total_bytes += int(num)\n",
        "        except:\n",
        "            pass\n",
        "    return total_bytes"
      ],
      "execution_count": 0,
      "outputs": []
    },
    {
      "cell_type": "code",
      "metadata": {
        "id": "C8rmMpfJZCFs",
        "colab_type": "code",
        "colab": {
          "base_uri": "https://localhost:8080/",
          "height": 34
        },
        "outputId": "a2ec1213-7f5f-429a-af86-4741f52396ed"
      },
      "source": [
        "print(f'Total de bytes: {contar_bytes(logs_agosto)}')"
      ],
      "execution_count": 22,
      "outputs": [
        {
          "output_type": "stream",
          "text": [
            "Total de bytes: 26828341424\n"
          ],
          "name": "stdout"
        }
      ]
    },
    {
      "cell_type": "code",
      "metadata": {
        "id": "VM-SWAl2FrQX",
        "colab_type": "code",
        "colab": {}
      },
      "source": [
        "# Retorna uma lista com os 5 url que mais causaram erro 404\n",
        "def urls_com_mais_erro_404(rdd):\n",
        "    urls = rdd.filter(lambda linha: linha.split(' ')[-2] == '404').map(lambda linha: linha.split(' ')[-4]).map(lambda item: (item, 1)).reduceByKey(add).collect()\n",
        "    contador = 0\n",
        "    top_5 = []\n",
        "    for i in sorted(urls, key=itemgetter(1), reverse=True):\n",
        "        if contador < 5:\n",
        "            z = f'{contador+1}º: {i}'\n",
        "            top_5.append(z)\n",
        "            contador += 1\n",
        "    return top_5"
      ],
      "execution_count": 0,
      "outputs": []
    },
    {
      "cell_type": "code",
      "metadata": {
        "id": "AKksY3QgF-ZJ",
        "colab_type": "code",
        "colab": {
          "base_uri": "https://localhost:8080/",
          "height": 102
        },
        "outputId": "32ae9072-f62a-4f07-a071-ae0bf12ee023"
      },
      "source": [
        "urls_com_mais_erro_404(logs_agosto)"
      ],
      "execution_count": 24,
      "outputs": [
        {
          "output_type": "execute_result",
          "data": {
            "text/plain": [
              "[\"1º: ('/pub/winvn/readme.txt', 1337)\",\n",
              " \"2º: ('/pub/winvn/release.txt', 1185)\",\n",
              " \"3º: ('/shuttle/missions/STS-69/mission-STS-69.html', 682)\",\n",
              " \"4º: ('/images/nasa-logo.gif', 319)\",\n",
              " \"5º: ('/shuttle/missions/sts-68/ksc-upclose.gif', 251)\"]"
            ]
          },
          "metadata": {
            "tags": []
          },
          "execution_count": 24
        }
      ]
    },
    {
      "cell_type": "markdown",
      "metadata": {
        "id": "MprCa9iGf5e-",
        "colab_type": "text"
      },
      "source": [
        "Exibir dados"
      ]
    },
    {
      "cell_type": "code",
      "metadata": {
        "id": "e50rghonig3u",
        "colab_type": "code",
        "colab": {}
      },
      "source": [
        "from prettytable import PrettyTable"
      ],
      "execution_count": 0,
      "outputs": []
    },
    {
      "cell_type": "code",
      "metadata": {
        "id": "fC9Hbf68f4Ai",
        "colab_type": "code",
        "colab": {}
      },
      "source": [
        "def imprimir_dataset(rdd, qtd=20):\n",
        "    coluna_host = rdd.map(lambda text: text.split(' ')[0])\n",
        "    coluna_data = rdd.map(lambda text: text.split('[')[1]).map(lambda text: text.split(' ')[0])\n",
        "    coluna_requisicoes = rdd.map(lambda text: text.split('\"')[1]).map(lambda text: text.split('\"')[0])\n",
        "    coluna_erros = rdd.map(lambda text: text.split(' ')[-2])\n",
        "    coluna_bytes = rdd.map(lambda text: text.split(' ')[-1])\n",
        "    x = PrettyTable()\n",
        "    x.padding_width = 1\n",
        "    x.add_column('Host', coluna_host.take(qtd))\n",
        "    x.add_column('Data', coluna_data.take(qtd))\n",
        "    x.add_column('Request', coluna_requisicoes.take(qtd))\n",
        "    x.add_column('Status', coluna_erros.take(qtd))\n",
        "    x.add_column('Bytes', coluna_bytes.take(qtd))\n",
        "    return x"
      ],
      "execution_count": 0,
      "outputs": []
    },
    {
      "cell_type": "code",
      "metadata": {
        "id": "Ic4_o1-bgBSQ",
        "colab_type": "code",
        "outputId": "34c225e7-8eb0-4288-ff94-5c2da8b20750",
        "colab": {
          "base_uri": "https://localhost:8080/",
          "height": 595
        }
      },
      "source": [
        "print(imprimir_dataset(logs_agosto, 30))"
      ],
      "execution_count": 27,
      "outputs": [
        {
          "output_type": "stream",
          "text": [
            "+-----------------------------+----------------------+------------------------------------------------------------------+--------+-------+\n",
            "|             Host            |         Data         |                             Request                              | Status | Bytes |\n",
            "+-----------------------------+----------------------+------------------------------------------------------------------+--------+-------+\n",
            "|      in24.inetnebr.com      | 01/Aug/1995:00:00:01 |   GET /shuttle/missions/sts-68/news/sts-68-mcc-05.txt HTTP/1.0   |  200   |  1839 |\n",
            "|       uplherc.upl.com       | 01/Aug/1995:00:00:07 |                          GET / HTTP/1.0                          |  304   |   0   |\n",
            "|       uplherc.upl.com       | 01/Aug/1995:00:00:08 |             GET /images/ksclogo-medium.gif HTTP/1.0              |  304   |   0   |\n",
            "|       uplherc.upl.com       | 01/Aug/1995:00:00:08 |            GET /images/MOSAIC-logosmall.gif HTTP/1.0             |  304   |   0   |\n",
            "|       uplherc.upl.com       | 01/Aug/1995:00:00:08 |              GET /images/USA-logosmall.gif HTTP/1.0              |  304   |   0   |\n",
            "| ix-esc-ca2-07.ix.netcom.com | 01/Aug/1995:00:00:09 |               GET /images/launch-logo.gif HTTP/1.0               |  200   |  1713 |\n",
            "|       uplherc.upl.com       | 01/Aug/1995:00:00:10 |             GET /images/WORLD-logosmall.gif HTTP/1.0             |  304   |   0   |\n",
            "|     slppp6.intermind.net    | 01/Aug/1995:00:00:10 |             GET /history/skylab/skylab.html HTTP/1.0             |  200   |  1687 |\n",
            "|     piweba4y.prodigy.com    | 01/Aug/1995:00:00:10 |              GET /images/launchmedium.gif HTTP/1.0               |  200   | 11853 |\n",
            "|     slppp6.intermind.net    | 01/Aug/1995:00:00:11 |          GET /history/skylab/skylab-small.gif HTTP/1.0           |  200   |  9202 |\n",
            "|     slppp6.intermind.net    | 01/Aug/1995:00:00:12 |              GET /images/ksclogosmall.gif HTTP/1.0               |  200   |  3635 |\n",
            "| ix-esc-ca2-07.ix.netcom.com | 01/Aug/1995:00:00:12 |       GET /history/apollo/images/apollo-logo1.gif HTTP/1.0       |  200   |  1173 |\n",
            "|     slppp6.intermind.net    | 01/Aug/1995:00:00:13 |       GET /history/apollo/images/apollo-logo.gif HTTP/1.0        |  200   |  3047 |\n",
            "|       uplherc.upl.com       | 01/Aug/1995:00:00:14 |             GET /images/NASA-logosmall.gif HTTP/1.0              |  304   |   0   |\n",
            "|         133.43.96.45        | 01/Aug/1995:00:00:16 |    GET /shuttle/missions/sts-69/mission-sts-69.html HTTP/1.0     |  200   | 10566 |\n",
            "|  kgtyk4.kj.yamagata-u.ac.jp | 01/Aug/1995:00:00:17 |                          GET / HTTP/1.0                          |  200   |  7280 |\n",
            "|  kgtyk4.kj.yamagata-u.ac.jp | 01/Aug/1995:00:00:18 |             GET /images/ksclogo-medium.gif HTTP/1.0              |  200   |  5866 |\n",
            "|       d0ucr6.fnal.gov       | 01/Aug/1995:00:00:19 |      GET /history/apollo/apollo-16/apollo-16.html HTTP/1.0       |  200   |  2743 |\n",
            "| ix-esc-ca2-07.ix.netcom.com | 01/Aug/1995:00:00:19 |     GET /shuttle/resources/orbiters/discovery.html HTTP/1.0      |  200   |  6849 |\n",
            "|       d0ucr6.fnal.gov       | 01/Aug/1995:00:00:20 | GET /history/apollo/apollo-16/apollo-16-patch-small.gif HTTP/1.0 |  200   | 14897 |\n",
            "|  kgtyk4.kj.yamagata-u.ac.jp | 01/Aug/1995:00:00:21 |             GET /images/NASA-logosmall.gif HTTP/1.0              |  304   |   0   |\n",
            "|  kgtyk4.kj.yamagata-u.ac.jp | 01/Aug/1995:00:00:21 |            GET /images/MOSAIC-logosmall.gif HTTP/1.0             |  304   |   0   |\n",
            "|  kgtyk4.kj.yamagata-u.ac.jp | 01/Aug/1995:00:00:22 |              GET /images/USA-logosmall.gif HTTP/1.0              |  304   |   0   |\n",
            "|  kgtyk4.kj.yamagata-u.ac.jp | 01/Aug/1995:00:00:22 |             GET /images/WORLD-logosmall.gif HTTP/1.0             |  304   |   0   |\n",
            "|         133.43.96.45        | 01/Aug/1995:00:00:22 |              GET /images/KSC-logosmall.gif HTTP/1.0              |  200   |  1204 |\n",
            "|         133.43.96.45        | 01/Aug/1995:00:00:23 |   GET /shuttle/missions/sts-69/sts-69-patch-small.gif HTTP/1.0   |  200   |  8083 |\n",
            "|         133.43.96.45        | 01/Aug/1995:00:00:23 |               GET /images/launch-logo.gif HTTP/1.0               |  200   |  1713 |\n",
            "|     www-c8.proxy.aol.com    | 01/Aug/1995:00:00:24 |                 GET /shuttle/countdown/ HTTP/1.0                 |  200   |  4324 |\n",
            "|         133.43.96.45        | 01/Aug/1995:00:00:25 |       GET /history/apollo/images/apollo-logo1.gif HTTP/1.0       |  200   |  1173 |\n",
            "| ix-esc-ca2-07.ix.netcom.com | 01/Aug/1995:00:00:25 |   GET /shuttle/resources/orbiters/discovery-logo.gif HTTP/1.0    |  200   |  4179 |\n",
            "+-----------------------------+----------------------+------------------------------------------------------------------+--------+-------+\n"
          ],
          "name": "stdout"
        }
      ]
    }
  ]
}